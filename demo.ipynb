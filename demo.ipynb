{
 "cells": [
  {
   "cell_type": "markdown",
   "metadata": {},
   "source": [
    "# Prototype Climate Impact Lab Interface"
   ]
  },
  {
   "cell_type": "markdown",
   "metadata": {},
   "source": [
    "## Workspace Setup"
   ]
  },
  {
   "cell_type": "markdown",
   "metadata": {},
   "source": [
    "Import some python modules"
   ]
  },
  {
   "cell_type": "code",
   "execution_count": 1,
   "metadata": {
    "collapsed": false
   },
   "outputs": [],
   "source": [
    "%matplotlib inline\n",
    "from matplotlib import pyplot as plt\n",
    "import prototype"
   ]
  },
  {
   "cell_type": "markdown",
   "metadata": {},
   "source": [
    "## Connect to the API"
   ]
  },
  {
   "cell_type": "markdown",
   "metadata": {},
   "source": [
    "Authenticate with the [prototype] API, and define how you want to use the system"
   ]
  },
  {
   "cell_type": "code",
   "execution_count": 2,
   "metadata": {
    "collapsed": false
   },
   "outputs": [
    {
     "name": "stdout",
     "output_type": "stream",
     "text": [
      "API configuration updated\n"
     ]
    }
   ],
   "source": [
    "api = prototype.ClimateImpactLabDataAPI(\n",
    "    username='mdelgado', \n",
    "    password='*********')\n",
    "\n",
    "api.configure(sample='median', location='OSDC', priority='low')"
   ]
  },
  {
   "cell_type": "markdown",
   "metadata": {},
   "source": [
    "## Retrieve formatted Climate Impact Lab variables"
   ]
  },
  {
   "cell_type": "code",
   "execution_count": 3,
   "metadata": {
    "collapsed": false
   },
   "outputs": [],
   "source": [
    "# mortality regression parameters\n",
    "alpha  = api.get_variable('alpha')\n",
    "gamma1 = api.get_variable('gamma1')\n",
    "gamma2 = api.get_variable('gamma2')\n",
    "gamma3 = api.get_variable('gamma3')\n",
    "\n",
    "# GCP-wide socioeconomic parameters\n",
    "avg_days_per_bin = api.get_variable('avg_days_per_bin')\n",
    "gdp_per_capita   = api.get_variable('gdppc')\n",
    "pop_density      = api.get_variable('popdens')\n",
    "\n",
    "# Climate variables\n",
    "temp = api.get_variable('temp')"
   ]
  },
  {
   "cell_type": "code",
   "execution_count": 4,
   "metadata": {
    "collapsed": false
   },
   "outputs": [
    {
     "data": {
      "text/plain": [
       "OrderedDict([('symbol', 'T'), ('description', 'NASA downscaled climate data')])"
      ]
     },
     "execution_count": 4,
     "metadata": {},
     "output_type": "execute_result"
    }
   ],
   "source": [
    "# Get variable attributes\n",
    "temp.attrs"
   ]
  },
  {
   "cell_type": "markdown",
   "metadata": {},
   "source": [
    "## Do math with Impact Lab variables"
   ]
  },
  {
   "cell_type": "code",
   "execution_count": 5,
   "metadata": {
    "collapsed": false
   },
   "outputs": [],
   "source": [
    "# From the NAS mortality presentation...\n",
    "\n",
    "betahat = alpha+gamma1*avg_days_per_bin+gamma2*(gdp_per_capita.ln())+gamma3*(pop_density.ln())"
   ]
  },
  {
   "cell_type": "code",
   "execution_count": 6,
   "metadata": {
    "collapsed": true
   },
   "outputs": [],
   "source": [
    "# define how your new variable should look\n",
    "betahat.symbol = '\\\\hat{{\\\\beta}}'"
   ]
  },
  {
   "cell_type": "code",
   "execution_count": 7,
   "metadata": {
    "collapsed": false
   },
   "outputs": [
    {
     "data": {
      "text/latex": [
       "$\\hat{{\\beta}}_{bins,adm2,time} = \\alpha_{bins} + \\left({{\\gamma_1}}_{bins}\\right)\\left(AvgDaysPerBin_{bins,adm2,time}\\right) + \\left({{\\gamma_2}}_{bins}\\right)\\left(\\ln{\\left(GdpPC_{adm2,time}\\right)}\\right) + \\left({{\\gamma_3}}_{bins}\\right)\\left(\\ln{\\left(PopDensity_{adm2,time}\\right)}\\right)$"
      ],
      "text/plain": [
       "<IPython.core.display.Latex object>"
      ]
     },
     "metadata": {},
     "output_type": "display_data"
    }
   ],
   "source": [
    "# show LaTeX for the math we just did\n",
    "betahat.display()"
   ]
  },
  {
   "cell_type": "code",
   "execution_count": 8,
   "metadata": {
    "collapsed": false
   },
   "outputs": [
    {
     "data": {
      "text/plain": [
       "<xarray.DataArray (bins: 12, adm2: 24999, time: 100)>\n",
       "array([[[ 0.09017683,  0.18475962, -0.94357073, ..., -0.36673131,\n",
       "         -2.6089736 , -0.71793438],\n",
       "        [ 0.87691344,  0.19890121, -1.22601148, ...,  0.56981271,\n",
       "         -1.75527971, -0.09207837],\n",
       "        [ 0.31277619,  0.03858758, -1.90205572, ..., -0.68585149,\n",
       "          0.06798176, -0.28893767],\n",
       "        ..., \n",
       "        [-0.61769034, -0.35176133, -0.24078675, ..., -0.65495756,\n",
       "         -2.14458412,  0.18328238],\n",
       "        [ 0.13608491,  0.47363624, -0.25684759, ...,  0.05058051,\n",
       "          0.51481122, -0.60408378],\n",
       "        [-0.07261482,  0.18441063, -0.92870511, ...,  0.29130031,\n",
       "         -0.26093867,  0.31895735]],\n",
       "\n",
       "       [[ 0.37801183,  0.45173678, -0.79960845, ..., -0.54495389,\n",
       "         -1.2611046 ,  0.01349514],\n",
       "        [ 0.61424209,  0.44998586, -2.15933161, ...,  0.46394746,\n",
       "         -1.13031081,  0.56222517],\n",
       "        [ 0.66125806,  0.52721091, -2.02736239, ...,  0.0428862 ,\n",
       "         -0.05269028,  0.1702951 ],\n",
       "        ..., \n",
       "        [-0.99651023,  0.38193358, -0.06937397, ..., -1.5020222 ,\n",
       "         -0.90133029,  0.20577829],\n",
       "        [ 0.38678771,  0.65982113, -0.3590617 , ..., -0.22768773,\n",
       "          0.47516586, -0.36685846],\n",
       "        [-0.27284634,  0.30105781, -1.35366745, ..., -0.05068902,\n",
       "          0.26794188,  0.70544019]],\n",
       "\n",
       "       [[-0.07308221, -0.11413147, -1.17673593, ..., -0.91186498,\n",
       "         -1.68586335, -0.51201147],\n",
       "        [ 0.26222397,  0.23777442, -2.97822757, ...,  0.26050333,\n",
       "         -1.30328973,  0.38630899],\n",
       "        [ 0.11094667, -0.13760418, -2.66083467, ..., -0.37748506,\n",
       "         -0.46505538,  0.07103851],\n",
       "        ..., \n",
       "        [-1.65807508, -0.28446096, -0.20258293, ..., -1.74486717,\n",
       "         -1.10594026, -0.30231533],\n",
       "        [-0.39269138,  0.36430119, -0.85761856, ..., -0.61065242,\n",
       "          0.04207731, -0.38850876],\n",
       "        [-0.62066125, -0.21287779, -2.0368657 , ..., -0.41832378,\n",
       "          0.04687629,  0.60490353]],\n",
       "\n",
       "       ..., \n",
       "       [[ 0.29672079,  0.71719053, -0.9581634 , ..., -0.28418763,\n",
       "         -2.355235  , -0.66220986],\n",
       "        [ 0.91327193,  0.61660947, -1.77290399, ...,  0.7842865 ,\n",
       "         -1.83862655,  0.58056174],\n",
       "        [ 0.89066957,  0.67551781, -2.34959825, ..., -0.02993938,\n",
       "         -0.00785876,  0.15615079],\n",
       "        ..., \n",
       "        [-0.65228983,  0.26668736, -0.13472317, ..., -1.00712627,\n",
       "         -1.81276158,  0.42135469],\n",
       "        [ 0.40034905,  0.79845305,  0.07303935, ..., -0.00574979,\n",
       "          0.59233211, -0.29555749],\n",
       "        [-0.13380712,  0.17873891, -1.22762174, ...,  0.27714874,\n",
       "          0.11145183,  1.02363   ]],\n",
       "\n",
       "       [[-0.56141095,  0.03899064, -2.13249402, ..., -1.2634466 ,\n",
       "         -4.55221386, -1.81102852],\n",
       "        [ 0.48053684, -0.23169471, -2.75473264, ...,  0.24404682,\n",
       "         -4.0956396 , -0.05157215],\n",
       "        [ 0.57918897, -0.09715235, -3.84906217, ..., -1.20126951,\n",
       "         -0.96721293, -0.97872298],\n",
       "        ..., \n",
       "        [-1.6623923 , -0.40827742, -0.8483552 , ..., -1.95576809,\n",
       "         -4.39071663, -0.17813377],\n",
       "        [-0.25302372,  0.50473249, -0.5987147 , ..., -0.98472356,\n",
       "          0.02784672, -1.54908047],\n",
       "        [-1.25922659, -0.71794757, -2.44514307, ..., -0.54240628,\n",
       "         -1.02187679,  0.16023692]],\n",
       "\n",
       "       [[ 0.45476295,  0.69116633,  0.01750882, ...,  0.19066687,\n",
       "         -0.25870068,  0.56344741],\n",
       "        [ 0.89621594,  0.79044738, -0.38263995, ...,  0.53971971,\n",
       "         -0.15988178,  0.96735862],\n",
       "        [ 0.9988924 ,  0.60734152, -0.22866188, ...,  0.38548354,\n",
       "          0.33599443,  0.71154515],\n",
       "        ..., \n",
       "        [ 0.22609123,  0.64060622,  0.50374011, ..., -0.14071954,\n",
       "          0.1207921 ,  0.42762196],\n",
       "        [ 0.53394982,  0.71755291,  0.31601253, ...,  0.66552075,\n",
       "          0.64737873,  0.42146483],\n",
       "        [ 0.55570254,  0.63673993,  0.03650992, ...,  0.43498562,\n",
       "          0.83079166,  0.88364163]]])\n",
       "Coordinates:\n",
       "  * bins     (bins) int64 0 1 2 3 4 5 6 7 8 9 10 11\n",
       "  * adm2     (adm2) int64 1 2 3 4 5 6 7 8 9 10 11 12 13 14 15 16 17 18 19 20 ...\n",
       "  * time     (time) int64 0 1 2 3 4 5 6 7 8 9 10 11 12 13 14 15 16 17 18 19 ...\n",
       "Attributes:\n",
       "    symbol: \\hat{{\\beta}}"
      ]
     },
     "execution_count": 8,
     "metadata": {},
     "output_type": "execute_result"
    }
   ],
   "source": [
    "# Also, show the result of the calculation\n",
    "betahat.value"
   ]
  },
  {
   "cell_type": "markdown",
   "metadata": {},
   "source": [
    "## Use functions from xArray and the rest of python"
   ]
  },
  {
   "cell_type": "code",
   "execution_count": 12,
   "metadata": {
    "collapsed": false
   },
   "outputs": [
    {
     "data": {
      "image/png": "[encoded data removed]",
      "text/plain": [
       "<matplotlib.figure.Figure at 0x132626dd0>"
      ]
     },
     "metadata": {},
     "output_type": "display_data"
    }
   ],
   "source": [
    "ax = betahat.value.plot()\n",
    "plt.show(ax)"
   ]
  },
  {
   "cell_type": "markdown",
   "metadata": {},
   "source": [
    "## The next step in the calculation..."
   ]
  },
  {
   "cell_type": "code",
   "execution_count": 16,
   "metadata": {
    "collapsed": true
   },
   "outputs": [],
   "source": [
    "# simplify the representation of betahat:\n",
    "betahat.symbolic = '\\\\hat{{\\\\beta}}'"
   ]
  },
  {
   "cell_type": "code",
   "execution_count": 17,
   "metadata": {
    "collapsed": true
   },
   "outputs": [],
   "source": [
    "# sum betahat*temp across bins\n",
    "mortality = (betahat * temp).sum(dim='bins')\n",
    "\n",
    "# declare a symbol for mortality\n",
    "mortality.symbol = 'M'"
   ]
  },
  {
   "cell_type": "code",
   "execution_count": 18,
   "metadata": {
    "collapsed": false
   },
   "outputs": [
    {
     "data": {
      "text/latex": [
       "$M_{adm2,time} = \\sum_{bins}{\\left\\{\\left(\\hat{{\\beta}}_{bins,adm2,time}\\right)\\left(T_{bins,adm2,time}\\right)\\right\\}}$"
      ],
      "text/plain": [
       "<IPython.core.display.Latex object>"
      ]
     },
     "metadata": {},
     "output_type": "display_data"
    }
   ],
   "source": [
    "mortality.display()"
   ]
  },
  {
   "cell_type": "markdown",
   "metadata": {},
   "source": [
    "Note that the dimensionality of mortality is less than beta and temp in the LaTeX and data:"
   ]
  },
  {
   "cell_type": "code",
   "execution_count": 19,
   "metadata": {
    "collapsed": false
   },
   "outputs": [
    {
     "data": {
      "text/plain": [
       "<xarray.DataArray (adm2: 24999, time: 100)>\n",
       "array([[ -3.48348524,   1.451602  ,  -3.70583551, ...,   4.6301065 ,\n",
       "          3.21251702,   3.04591607],\n",
       "       [  3.07825481,  -0.96487393,   1.2278948 , ...,   0.82126926,\n",
       "          1.4135644 ,   1.81819439],\n",
       "       [ -0.227317  ,   1.96148661,  -6.57299847, ...,  -2.72654544,\n",
       "          0.83018776,  -5.3444067 ],\n",
       "       ..., \n",
       "       [  1.4770409 ,   2.46424362,  -1.2657929 , ...,   2.00093775,\n",
       "          0.73129872,  -9.99521669],\n",
       "       [ -1.83440384,   0.61295812,  -2.40011966, ..., -30.75147565,\n",
       "         -0.30482349,  -2.93447264],\n",
       "       [  2.67929975,  -0.31044928,   1.03214597, ..., -16.01299561,\n",
       "          3.19467735,  -8.37779217]])\n",
       "Coordinates:\n",
       "  * adm2     (adm2) int64 1 2 3 4 5 6 7 8 9 10 11 12 13 14 15 16 17 18 19 20 ...\n",
       "  * time     (time) int64 0 1 2 3 4 5 6 7 8 9 10 11 12 13 14 15 16 17 18 19 ...\n",
       "Attributes:\n",
       "    symbol: M"
      ]
     },
     "execution_count": 19,
     "metadata": {},
     "output_type": "execute_result"
    }
   ],
   "source": [
    "mortality.value"
   ]
  },
  {
   "cell_type": "code",
   "execution_count": 23,
   "metadata": {
    "collapsed": false
   },
   "outputs": [
    {
     "data": {
      "image/png": "[encoded data removed]",
      "text/plain": [
       "<matplotlib.figure.Figure at 0x1131007d0>"
      ]
     },
     "metadata": {},
     "output_type": "display_data"
    }
   ],
   "source": [
    "ax = mortality.value.mean(dim='adm2').plot()\n",
    "plt.show(ax)"
   ]
  }
 ],
 "metadata": {
  "anaconda-cloud": {},
  "kernelspec": {
   "display_name": "Python [conda root]",
   "language": "python",
   "name": "conda-root-py"
  },
  "language_info": {
   "codemirror_mode": {
    "name": "ipython",
    "version": 2
   },
   "file_extension": ".py",
   "mimetype": "text/x-python",
   "name": "python",
   "nbconvert_exporter": "python",
   "pygments_lexer": "ipython2",
   "version": "2.7.12"
  }
 },
 "nbformat": 4,
 "nbformat_minor": 1
}
