{
 "cells": [
  {
   "cell_type": "markdown",
   "metadata": {},
   "source": [
    "# Prototype Climate Impact Lab Interface"
   ]
  },
  {
   "cell_type": "markdown",
   "metadata": {},
   "source": [
    "## Workspace Setup"
   ]
  },
  {
   "cell_type": "markdown",
   "metadata": {},
   "source": [
    "Import some python modules"
   ]
  },
  {
   "cell_type": "code",
   "execution_count": 126,
   "metadata": {
    "collapsed": false
   },
   "outputs": [
    {
     "data": {
      "text/plain": [
       "<module 'prototype' from 'prototype.py'>"
      ]
     },
     "execution_count": 126,
     "metadata": {},
     "output_type": "execute_result"
    }
   ],
   "source": [
    "%matplotlib inline\n",
    "from matplotlib import pyplot as plt\n",
    "import prototype\n",
    "reload(prototype)"
   ]
  },
  {
   "cell_type": "markdown",
   "metadata": {},
   "source": [
    "## Connect to the API"
   ]
  },
  {
   "cell_type": "markdown",
   "metadata": {},
   "source": [
    "Authenticate with the [prototype] API, and define how you want to use the system"
   ]
  },
  {
   "cell_type": "code",
   "execution_count": 127,
   "metadata": {
    "collapsed": false
   },
   "outputs": [
    {
     "name": "stdout",
     "output_type": "stream",
     "text": [
      "API configuration updated\n"
     ]
    }
   ],
   "source": [
    "api = prototype.ClimateImpactLabDataAPI(\n",
    "    username='mdelgado', \n",
    "    password='*********')\n",
    "\n",
    "api.configure(sample='median', location='OSDC', priority='low')"
   ]
  },
  {
   "cell_type": "markdown",
   "metadata": {},
   "source": [
    "## Retrieve formatted Climate Impact Lab variables"
   ]
  },
  {
   "cell_type": "code",
   "execution_count": 120,
   "metadata": {
    "collapsed": false
   },
   "outputs": [
    {
     "data": {
      "text/plain": [
       "[u'GCP.Climate.Projection.GridQtrDeg.Precipitation',\n",
       " u'GCP.Climate.Projection.GridQtrDeg.Tas',\n",
       " u'GCP.Climate.Projection.GridQtrDeg.Tasmax',\n",
       " u'GCP.Climate.Projection.GridQtrDeg.Tasmin',\n",
       " u'GCP.Climate.Projection.IR.Precipitation',\n",
       " u'GCP.Climate.Projection.IR.Tas',\n",
       " u'GCP.Climate.Projection.IR.Tasmax',\n",
       " u'GCP.Climate.Projection.IR.Tasmin']"
      ]
     },
     "execution_count": 120,
     "metadata": {},
     "output_type": "execute_result"
    }
   ],
   "source": [
    "api.list_variables()"
   ]
  },
  {
   "cell_type": "code",
   "execution_count": 125,
   "metadata": {
    "collapsed": false
   },
   "outputs": [
    {
     "data": {
      "text/plain": [
       "<xarray.DataArray (GCP.INDEX.LatQtrDeg: 1, GCP.INDEX.LonQtrDeg: 1, GCP.INDEX.Day365: 1)>\n",
       "dask.array<xarray-..., shape=(1, 1, 1), dtype=float64, chunksize=(1, 1, 1)>\n",
       "Coordinates:\n",
       "  * GCP.INDEX.LatQtrDeg  (GCP.INDEX.LatQtrDeg) int64 0\n",
       "  * GCP.INDEX.LonQtrDeg  (GCP.INDEX.LonQtrDeg) int64 0\n",
       "  * GCP.INDEX.Day365     (GCP.INDEX.Day365) int64 0\n",
       "Attributes:\n",
       "    category: Climate.Projection\n",
       "    latex: T\n",
       "    updated: 2016-03-10\n",
       "    uuid: \n",
       "    author: Jiacan Yuan\n",
       "    description: Gridded daily mean near-surface air temperature\n",
       "    versions: {u'GCP.Climate.Projection.GridQtrDeg.Tas.2016-03-10.01': {u'updated': u'2016-03-10', u'version': u'GCP.Climate.Projection.GridQtrDeg.Tas.2016-03-10.01', u'uuid': u'', u'dependencies': [u'GCP.Climate.Projection.GridQtrDeg.Tasmax.2015-01-07', u'GCP.Climate.Projection.GridQtrDeg.Tasmin.2015-01-07'], u'filepath': u'shackleton:/mnt/norgay_gcp/BCSD-original/{{rcp}}/day/atmos/{{code_name}}/r1i1p1/v1.0/{{code_name}}_day_BCSD_{{rcp}}r1i1p1_{{model}}_*.nc'}}\n",
       "    scenarios: [u'GCP.Scenarios.RCPs', u'GCP.Scenarios.ClimateModels']\n",
       "    project: GCP\n",
       "    source: Average temperature is the average of daily minimum and maximum temperature\n",
       "    dims: [{u'gcp_id': u'GCP.INDEX.LatQtrDeg', u'name': u'lat'}, {u'gcp_id': u'GCP.INDEX.LonQtrDeg', u'name': u'lon'}, {u'gcp_id': u'GCP.INDEX.Day365', u'name': u'time'}]\n",
       "    contact: jiacan.yuan@gmail.com\n",
       "    gcp_id: GCP.Climate.Projection.GridQtrDeg.Tas\n",
       "    code_name: tas\n",
       "    units: K\n",
       "    name: GridQtrDeg.Tas"
      ]
     },
     "execution_count": 125,
     "metadata": {},
     "output_type": "execute_result"
    }
   ],
   "source": [
    "api.variables.GCP.Climate.Projection.GridQtrDeg.Tas.get_var()"
   ]
  },
  {
   "cell_type": "code",
   "execution_count": null,
   "metadata": {
    "collapsed": true
   },
   "outputs": [],
   "source": []
  },
  {
   "cell_type": "code",
   "execution_count": null,
   "metadata": {
    "collapsed": true
   },
   "outputs": [],
   "source": []
  },
  {
   "cell_type": "code",
   "execution_count": 90,
   "metadata": {
    "collapsed": false
   },
   "outputs": [],
   "source": [
    "tasmin  = api.get_variable('GCP.Climate.Projection.GridQtrDeg.Tasmin')\n",
    "tasmax  = api.get_variable('GCP.Climate.Projection.GridQtrDeg.Tasmax')"
   ]
  },
  {
   "cell_type": "code",
   "execution_count": 71,
   "metadata": {
    "collapsed": false
   },
   "outputs": [
    {
     "data": {
      "text/plain": [
       "<xarray.DataArray (GCP.INDEX.LatQtrDeg: 1, GCP.INDEX.LonQtrDeg: 1, GCP.INDEX.Day: 1)>\n",
       "dask.array<xarray-..., shape=(1, 1, 1), dtype=float64, chunksize=(1, 1, 1)>\n",
       "Coordinates:\n",
       "  * GCP.INDEX.LatQtrDeg  (GCP.INDEX.LatQtrDeg) int64 0\n",
       "  * GCP.INDEX.LonQtrDeg  (GCP.INDEX.LonQtrDeg) int64 0\n",
       "  * GCP.INDEX.Day        (GCP.INDEX.Day) int64 0\n",
       "Attributes:\n",
       "    category: Climate.Projection\n",
       "    latex: T\n",
       "    updated: 2015-01-07T19:09:48Z\n",
       "    uuid: \n",
       "    author: Jiacan Yuan\n",
       "    description: Gridded daily minimum near-surface air temperature\n",
       "    versions: {u'GCP.Climate.Projection.GridQtrDeg.Tasmin.2015-01-07': {u'updated': u'2016-03-10', u'version': u'GCP.Climate.Projection.GridQtrDeg.Tasmin.2015-01-07', u'uuid': u'', u'dependencies': [], u'filepath': u'shackleton:/mnt/norgay_gcp/BCSD-original/{{rcp}}/day/atmos/{{code_name}}/r1i1p1/v1.0/{{code_name}}_day_BCSD_{{rcp}}r1i1p1_{{model}}_*.nc'}}\n",
       "    additional_metadata: {u'driving_experiment': u'historical', u'resolution_id': u'0.25 degree', u'downscalingModel': u'BCSD', u'product': u'output', u'frequency': u'day', u'references': u'BCSD method: Thrasher et al., 2012, Hydrol. Earth Syst. Sci.,16, 3309-3314. Ref period obs: latest version of the Princeton Global Meteorological Forcings (http://hydrology.princeton.edu/data.php), based on Sheffield et al., 2006, J. Climate, 19 (13), 3088-3111. DOI: http://dx.doi.org/10.7292/W0MW2F2G', u'driving_experiment_name':...\n",
       "    scenarios: [u'GCP.Scenarios.RCPs', u'GCP.Scenarios.ClimateModels']\n",
       "    project: GCP\n",
       "    dims: [{u'gcp_id': u'GCP.INDEX.LatQtrDeg', u'name': u'lat'}, {u'gcp_id': u'GCP.INDEX.LonQtrDeg', u'name': u'lon'}, {u'gcp_id': u'GCP.INDEX.Day', u'name': u'time'}]\n",
       "    contact: jiacan.yuan@gmail.com\n",
       "    gcp_id: GCP.Climate.Projection.GridQtrDeg.Tasmin\n",
       "    code_name: tasmin\n",
       "    units: K\n",
       "    name: GridQtrDeg.Tasmin"
      ]
     },
     "execution_count": 71,
     "metadata": {},
     "output_type": "execute_result"
    }
   ],
   "source": [
    "tas"
   ]
  },
  {
   "cell_type": "code",
   "execution_count": 72,
   "metadata": {
    "collapsed": false
   },
   "outputs": [
    {
     "data": {
      "text/latex": [
       "\\begin{equation}\n",
       "T_{lat,lon,day} = T_{lat,lon,day}\n",
       "\\end{equation}"
      ],
      "text/plain": [
       "<IPython.core.display.Latex object>"
      ]
     },
     "metadata": {},
     "output_type": "display_data"
    }
   ],
   "source": [
    "tasmin.display()"
   ]
  },
  {
   "cell_type": "code",
   "execution_count": 73,
   "metadata": {
    "collapsed": false
   },
   "outputs": [],
   "source": [
    "tas = (tasmin + tasmax)/2"
   ]
  },
  {
   "cell_type": "code",
   "execution_count": 74,
   "metadata": {
    "collapsed": false
   },
   "outputs": [
    {
     "data": {
      "text/latex": [
       "\\begin{equation}\n",
       "\\frac{\\left(T_{lat,lon,day} + T_{lat,lon,day}\\right)}{\\left(2\\right)}\n",
       "\\end{equation}"
      ],
      "text/plain": [
       "<IPython.core.display.Latex object>"
      ]
     },
     "metadata": {},
     "output_type": "display_data"
    }
   ],
   "source": [
    "tas.display()"
   ]
  },
  {
   "cell_type": "code",
   "execution_count": 75,
   "metadata": {
    "collapsed": false
   },
   "outputs": [
    {
     "data": {
      "text/plain": [
       "<xarray.DataArray (GCP.INDEX.LatQtrDeg: 1, GCP.INDEX.LonQtrDeg: 1, GCP.INDEX.Day: 1)>\n",
       "dask.array<div-7bf..., shape=(1, 1, 1), dtype=float64, chunksize=(1, 1, 1)>\n",
       "Coordinates:\n",
       "  * GCP.INDEX.LatQtrDeg  (GCP.INDEX.LatQtrDeg) int64 0\n",
       "  * GCP.INDEX.LonQtrDeg  (GCP.INDEX.LonQtrDeg) int64 0\n",
       "  * GCP.INDEX.Day        (GCP.INDEX.Day) int64 0"
      ]
     },
     "execution_count": 75,
     "metadata": {},
     "output_type": "execute_result"
    }
   ],
   "source": [
    "tas"
   ]
  },
  {
   "cell_type": "code",
   "execution_count": 82,
   "metadata": {
    "collapsed": false
   },
   "outputs": [],
   "source": [
    "tas.attrs[u'gcp_id'] = 'GCP.Climate.Projection.GridQtrDeg.Tas2'\n",
    "tas.attrs[u'name'] = 'Tas2'"
   ]
  },
  {
   "cell_type": "code",
   "execution_count": 77,
   "metadata": {
    "collapsed": false
   },
   "outputs": [],
   "source": [
    "all_the_tas = tas.sum(dim='GCP.INDEX.Day')"
   ]
  },
  {
   "cell_type": "code",
   "execution_count": 78,
   "metadata": {
    "collapsed": false
   },
   "outputs": [
    {
     "data": {
      "text/plain": [
       "<xarray.DataArray (GCP.INDEX.LatQtrDeg: 1, GCP.INDEX.LonQtrDeg: 1)>\n",
       "dask.array<sum-agg..., shape=(1, 1), dtype=float64, chunksize=(1, 1)>\n",
       "Coordinates:\n",
       "  * GCP.INDEX.LatQtrDeg  (GCP.INDEX.LatQtrDeg) int64 0\n",
       "  * GCP.INDEX.LonQtrDeg  (GCP.INDEX.LonQtrDeg) int64 0"
      ]
     },
     "execution_count": 78,
     "metadata": {},
     "output_type": "execute_result"
    }
   ],
   "source": [
    "all_the_tas"
   ]
  },
  {
   "cell_type": "code",
   "execution_count": 79,
   "metadata": {
    "collapsed": false
   },
   "outputs": [
    {
     "data": {
      "text/latex": [
       "\\begin{equation}\n",
       "\\sum_{GCP.INDEX.Day\\in GCP.INDEX.DAY}{\\left\\{\\frac{\\left(T_{lat,lon,day} + T_{lat,lon,day}\\right)}{\\left(2\\right)}\\right\\}}\n",
       "\\end{equation}"
      ],
      "text/plain": [
       "<IPython.core.display.Latex object>"
      ]
     },
     "metadata": {},
     "output_type": "display_data"
    }
   ],
   "source": [
    "all_the_tas.display()"
   ]
  },
  {
   "cell_type": "code",
   "execution_count": 86,
   "metadata": {
    "collapsed": false
   },
   "outputs": [
    {
     "data": {
      "text/plain": [
       "<xarray.DataArray (GCP.INDEX.LatQtrDeg: 1, GCP.INDEX.LonQtrDeg: 1, GCP.INDEX.Day: 1)>\n",
       "dask.array<xarray-..., shape=(1, 1, 1), dtype=float64, chunksize=(1, 1, 1)>\n",
       "Coordinates:\n",
       "  * GCP.INDEX.LatQtrDeg  (GCP.INDEX.LatQtrDeg) int64 0\n",
       "  * GCP.INDEX.LonQtrDeg  (GCP.INDEX.LonQtrDeg) int64 0\n",
       "  * GCP.INDEX.Day        (GCP.INDEX.Day) int64 0\n",
       "Attributes:\n",
       "    category: Climate.Projection\n",
       "    latex: T\n",
       "    updated: 2015-01-07\n",
       "    uuid: \n",
       "    author: Jiacan Yuan\n",
       "    description: Gridded daily maximum near-surface air temperature\n",
       "    versions: {u'GCP.Climate.Projection.GridQtrDeg.Tasmax.2015-01-07': {u'updated': u'2016-03-10', u'version': u'GCP.Climate.Projection.GridQtrDeg.Tasax.2015-01-07', u'uuid': u'', u'dependencies': [], u'filepath': u'shackleton:/mnt/norgay_gcp/BCSD-original/{{rcp}}/day/atmos/{{code_name}}/r1i1p1/v1.0/{{code_name}}_day_BCSD_{{rcp}}r1i1p1_{{model}}_*.nc'}}\n",
       "    additional_metadata: {u'driving_experiment': u'historical', u'resolution_id': u'0.25 degree', u'downscalingModel': u'BCSD', u'product': u'output', u'frequency': u'day', u'references': u'BCSD method: Thrasher et al., 2012, Hydrol. Earth Syst. Sci.,16, 3309-3314. Ref period obs: latest version of the Princeton Global Meteorological Forcings (http://hydrology.princeton.edu/data.php), based on Sheffield et al., 2006, J. Climate, 19 (13), 3088-3111. DOI: http://dx.doi.org/10.7292/W0MW2F2G', u'driving_experiment_name':...\n",
       "    scenarios: [u'GCP.Scenarios.RCPs', u'GCP.Scenarios.ClimateModels']\n",
       "    project: GCP\n",
       "    dims: [{u'gcp_id': u'GCP.INDEX.LatQtrDeg', u'name': u'lat'}, {u'gcp_id': u'GCP.INDEX.LonQtrDeg', u'name': u'lon'}, {u'gcp_id': u'GCP.INDEX.Day', u'name': u'time'}]\n",
       "    contact: jiacan.yuan@gmail.com\n",
       "    gcp_id: GCP.Climate.Projection.GridQtrDeg.Tasmax\n",
       "    code_name: tasmax\n",
       "    units: K\n",
       "    name: GridQtrDeg.Tasmax"
      ]
     },
     "execution_count": 86,
     "metadata": {},
     "output_type": "execute_result"
    }
   ],
   "source": [
    "api.database[tasmax.attrs['gcp_id']]"
   ]
  },
  {
   "cell_type": "code",
   "execution_count": null,
   "metadata": {
    "collapsed": true
   },
   "outputs": [],
   "source": []
  },
  {
   "cell_type": "code",
   "execution_count": null,
   "metadata": {
    "collapsed": true
   },
   "outputs": [],
   "source": []
  },
  {
   "cell_type": "code",
   "execution_count": 84,
   "metadata": {
    "collapsed": false
   },
   "outputs": [
    {
     "name": "stdout",
     "output_type": "stream",
     "text": [
      "gcp_id: a\n",
      "gcp_id: a\n",
      "name: a\n",
      "latex: a\n",
      "description: a\n",
      "author: a\n"
     ]
    }
   ],
   "source": [
    "api.publish(tas, latex='T')"
   ]
  },
  {
   "cell_type": "markdown",
   "metadata": {},
   "source": [
    "## Do math with Impact Lab variables"
   ]
  },
  {
   "cell_type": "code",
   "execution_count": null,
   "metadata": {
    "collapsed": false
   },
   "outputs": [],
   "source": [
    "# From the NAS mortality presentation...\n",
    "\n",
    "betahat = alpha+gamma1*avg_days_per_bin+gamma2*(gdp_per_capita.ln())+gamma3*(pop_density.ln())"
   ]
  },
  {
   "cell_type": "code",
   "execution_count": null,
   "metadata": {
    "collapsed": true
   },
   "outputs": [],
   "source": [
    "# define how your new variable should look\n",
    "betahat.symbol = '\\\\hat{{\\\\beta}}'"
   ]
  },
  {
   "cell_type": "code",
   "execution_count": null,
   "metadata": {
    "collapsed": false
   },
   "outputs": [],
   "source": [
    "# show LaTeX for the math we just did\n",
    "betahat.display()"
   ]
  },
  {
   "cell_type": "code",
   "execution_count": null,
   "metadata": {
    "collapsed": false
   },
   "outputs": [],
   "source": [
    "class Dim(object):\n",
    "    def __init__(self, name, id):\n",
    "        self.name = name\n",
    "        self.id = id\n",
    "    def __repr__(self):\n",
    "        return self.name\n",
    "    \n",
    "tasmin.value.dims = (\n",
    "    Dim('lat', 'GCP.Index.Latitude'), \n",
    "    Dim('lon', 'GCP.Index.Longitude'),\n",
    "    Dim('time', 'GCP.Index.Days365'))\n"
   ]
  },
  {
   "cell_type": "markdown",
   "metadata": {},
   "source": [
    "## Use functions from xArray and the rest of python"
   ]
  },
  {
   "cell_type": "code",
   "execution_count": null,
   "metadata": {
    "collapsed": false
   },
   "outputs": [],
   "source": [
    "ax = betahat.value.plot()\n",
    "plt.show(ax)"
   ]
  },
  {
   "cell_type": "markdown",
   "metadata": {},
   "source": [
    "## The next step in the calculation..."
   ]
  },
  {
   "cell_type": "code",
   "execution_count": null,
   "metadata": {
    "collapsed": true
   },
   "outputs": [],
   "source": [
    "# simplify the representation of betahat:\n",
    "betahat.symbolic = '\\\\hat{{\\\\beta}}'"
   ]
  },
  {
   "cell_type": "code",
   "execution_count": null,
   "metadata": {
    "collapsed": true
   },
   "outputs": [],
   "source": [
    "# sum betahat*temp across bins\n",
    "mortality = (betahat * temp).sum(dim='bins')\n",
    "\n",
    "# declare a symbol for mortality\n",
    "mortality.symbol = 'M'"
   ]
  },
  {
   "cell_type": "code",
   "execution_count": null,
   "metadata": {
    "collapsed": false
   },
   "outputs": [],
   "source": [
    "mortality.display()"
   ]
  },
  {
   "cell_type": "markdown",
   "metadata": {},
   "source": [
    "Note that the dimensionality of mortality is less than beta and temp in the LaTeX and data:"
   ]
  },
  {
   "cell_type": "code",
   "execution_count": null,
   "metadata": {
    "collapsed": false
   },
   "outputs": [],
   "source": [
    "mortality.value"
   ]
  },
  {
   "cell_type": "code",
   "execution_count": null,
   "metadata": {
    "collapsed": false
   },
   "outputs": [],
   "source": [
    "ax = mortality.value.mean(dim='adm2').plot()\n",
    "plt.show(ax)"
   ]
  }
 ],
 "metadata": {
  "anaconda-cloud": {},
  "kernelspec": {
   "display_name": "Python [default]",
   "language": "python",
   "name": "python2"
  },
  "language_info": {
   "codemirror_mode": {
    "name": "ipython",
    "version": 2
   },
   "file_extension": ".py",
   "mimetype": "text/x-python",
   "name": "python",
   "nbconvert_exporter": "python",
   "pygments_lexer": "ipython2",
   "version": "2.7.12"
  }
 },
 "nbformat": 4,
 "nbformat_minor": 1
}
