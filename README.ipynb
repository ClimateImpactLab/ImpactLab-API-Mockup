{
 "cells": [
  {
   "cell_type": "markdown",
   "metadata": {},
   "source": [
    "# Prototype Climate Impact Lab Interface"
   ]
  },
  {
   "cell_type": "markdown",
   "metadata": {},
   "source": [
    "## Workspace Setup"
   ]
  },
  {
   "cell_type": "markdown",
   "metadata": {},
   "source": [
    "Import some python modules"
   ]
  },
  {
   "cell_type": "code",
   "execution_count": 1,
   "metadata": {
    "collapsed": false
   },
   "outputs": [
    {
     "data": {
      "text/plain": [
       "<module 'ClimateImpactLab' from 'ClimateImpactLab/__init__.pyc'>"
      ]
     },
     "execution_count": 1,
     "metadata": {},
     "output_type": "execute_result"
    }
   ],
   "source": [
    "%matplotlib inline\n",
    "from matplotlib import pyplot as plt\n",
    "import ClimateImpactLab as lab\n",
    "reload(lab)"
   ]
  },
  {
   "cell_type": "markdown",
   "metadata": {},
   "source": [
    "## Connect to the API"
   ]
  },
  {
   "cell_type": "markdown",
   "metadata": {},
   "source": [
    "Authenticate with the [prototype] API, and define how you want to use the system"
   ]
  },
  {
   "cell_type": "code",
   "execution_count": 2,
   "metadata": {
    "collapsed": false
   },
   "outputs": [],
   "source": [
    "api = lab.Client(\n",
    "    username='mdelgado', \n",
    "    password='*********')\n",
    "\n",
    "api.refresh_database()"
   ]
  },
  {
   "cell_type": "code",
   "execution_count": 3,
   "metadata": {
    "collapsed": false
   },
   "outputs": [],
   "source": [
    "api.commit()"
   ]
  },
  {
   "cell_type": "code",
   "execution_count": null,
   "metadata": {
    "collapsed": true
   },
   "outputs": [],
   "source": []
  },
  {
   "cell_type": "markdown",
   "metadata": {},
   "source": [
    "## Retrieve formatted Climate Impact Lab variables"
   ]
  },
  {
   "cell_type": "code",
   "execution_count": 4,
   "metadata": {
    "collapsed": false
   },
   "outputs": [
    {
     "data": {
      "text/plain": [
       "[u'GCP.Climate.Projection.GridQtrDeg.Precipitation',\n",
       " u'GCP.Climate.Projection.GridQtrDeg.Tas',\n",
       " u'GCP.Climate.Projection.GridQtrDeg.Tasmax',\n",
       " u'GCP.Climate.Projection.GridQtrDeg.Tasmin',\n",
       " u'GCP.Climate.Projection.IR.Precipitation',\n",
       " u'GCP.Climate.Projection.IR.Tas',\n",
       " u'GCP.Climate.Projection.IR.Tasmax',\n",
       " u'GCP.Climate.Projection.IR.Tasmin']"
      ]
     },
     "execution_count": 4,
     "metadata": {},
     "output_type": "execute_result"
    }
   ],
   "source": [
    "api.list_variables()"
   ]
  },
  {
   "cell_type": "code",
   "execution_count": 5,
   "metadata": {
    "collapsed": false
   },
   "outputs": [
    {
     "data": {
      "text/plain": [
       "<ClimateImpactLab.api.variable._VariableGetter object : [u'Precipitation', u'Tas', u'Tasmax', u'Tasmin']>"
      ]
     },
     "execution_count": 5,
     "metadata": {},
     "output_type": "execute_result"
    }
   ],
   "source": [
    "api.variables.GCP.Climate.Projection.GridQtrDeg"
   ]
  },
  {
   "cell_type": "code",
   "execution_count": 6,
   "metadata": {
    "collapsed": false
   },
   "outputs": [
    {
     "data": {
      "text/plain": [
       "[u'GCP.INDEX.Day',\n",
       " u'GCP.INDEX.Day365',\n",
       " u'GCP.INDEX.Gadm',\n",
       " u'GCP.INDEX.HistoricalPeriod',\n",
       " u'GCP.INDEX.IR',\n",
       " u'GCP.INDEX.LatDEG',\n",
       " u'GCP.INDEX.LatHalfDeg',\n",
       " u'GCP.INDEX.LatQtrDeg',\n",
       " u'GCP.INDEX.LatTwoDeg',\n",
       " u'GCP.INDEX.LonDEG',\n",
       " u'GCP.INDEX.LonHalfDeg',\n",
       " u'GCP.INDEX.LonQtrDeg',\n",
       " u'GCP.INDEX.LonTwoDeg',\n",
       " u'GCP.INDEX.Month',\n",
       " u'GCP.INDEX.ProjectionPeriods',\n",
       " u'GCP.INDEX.TempBinMortality',\n",
       " u'GCP.INDEX.Year']"
      ]
     },
     "execution_count": 6,
     "metadata": {},
     "output_type": "execute_result"
    }
   ],
   "source": [
    "api.list_dims()"
   ]
  },
  {
   "cell_type": "code",
   "execution_count": 7,
   "metadata": {
    "collapsed": false
   },
   "outputs": [
    {
     "data": {
      "text/plain": [
       "[u'GCP.Scenarios.ClimateModels', u'GCP.Scenarios.RCPs', u'GCP_SCENARIOS_SSPs']"
      ]
     },
     "execution_count": 7,
     "metadata": {},
     "output_type": "execute_result"
    }
   ],
   "source": [
    "api.list_scenarios()"
   ]
  },
  {
   "cell_type": "code",
   "execution_count": null,
   "metadata": {
    "collapsed": true
   },
   "outputs": [],
   "source": []
  },
  {
   "cell_type": "code",
   "execution_count": 8,
   "metadata": {
    "collapsed": false
   },
   "outputs": [],
   "source": [
    "tasmin  = api.get_variable('GCP.Climate.Projection.GridQtrDeg.Tasmin')\n",
    "tasmax  = api.get_variable('GCP.Climate.Projection.GridQtrDeg.Tasmax')"
   ]
  },
  {
   "cell_type": "code",
   "execution_count": 9,
   "metadata": {
    "collapsed": false
   },
   "outputs": [
    {
     "data": {
      "text/plain": [
       "<xarray.DataArray (GCP.INDEX.LatQtrDeg: 1, GCP.INDEX.LonQtrDeg: 1, GCP.INDEX.Day: 1)>\n",
       "dask.array<xarray-..., shape=(1, 1, 1), dtype=float64, chunksize=(1, 1, 1)>\n",
       "Coordinates:\n",
       "  * GCP.INDEX.LatQtrDeg  (GCP.INDEX.LatQtrDeg) |S1 ''\n",
       "  * GCP.INDEX.LonQtrDeg  (GCP.INDEX.LonQtrDeg) |S1 ''\n",
       "  * GCP.INDEX.Day        (GCP.INDEX.Day) |S1 ''\n",
       "Attributes:\n",
       "    category: Climate.Projection\n",
       "    latex: T\n",
       "    additional_metadata: {u'version': u'1.0', u'driving_experiment': u'historical', u'resolution_id': u'0.25 degree', u'parent_experiment_id': u'historical', u'product': u'output', u'frequency': u'day', u'references': u'BCSD method: Thrasher et al., 2012, Hydrol. Earth Syst. Sci.,16, 3309-3314. Ref period obs: latest version of the Princeton Global Meteorological Forcings (http://hydrology.princeton.edu/data.php), based on Sheffield et al., 2006, J. Climate, 19 (13), 3088-3111. DOI: http://dx.doi.org/10.7292/W0MW2F2G...\n",
       "    description: Gridded daily minimum near-surface air temperature\n",
       "    author: Jiacan Yuan\n",
       "    versions: {u'GCP.Climate.Projection.GridQtrDeg.Tasmin.2015-01-07': {u'updated': u'2016-03-10', u'dependencies': [], u'uuid': u'', u'version': u'GCP.Climate.Projection.GridQtrDeg.Tasmin.2015-01-07', u'filepath': u'shackleton:/mnt/norgay_gcp/BCSD-original/{{rcp}}/day/atmos/{{code_name}}/r1i1p1/v1.0/{{code_name}}_day_BCSD_{{rcp}}r1i1p1_{{model}}_*.nc'}}\n",
       "    derived: False\n",
       "    updated: 2015-01-07T19:09:48Z\n",
       "    scenarios: [u'GCP.Scenarios.RCPs', u'GCP.Scenarios.ClimateModels']\n",
       "    project: GCP\n",
       "    dims: [{u'gcp_id': u'GCP.INDEX.LatQtrDeg', u'name': u'lat'}, {u'gcp_id': u'GCP.INDEX.LonQtrDeg', u'name': u'lon'}, {u'gcp_id': u'GCP.INDEX.Day', u'name': u'time'}]\n",
       "    contact: jiacan.yuan@gmail.com\n",
       "    gcp_id: GCP.Climate.Projection.GridQtrDeg.Tasmin\n",
       "    code_name: tasmin\n",
       "    units: K\n",
       "    uuid: \n",
       "    name: GridQtrDeg.Tasmin"
      ]
     },
     "execution_count": 9,
     "metadata": {},
     "output_type": "execute_result"
    }
   ],
   "source": [
    "tasmin"
   ]
  },
  {
   "cell_type": "code",
   "execution_count": 10,
   "metadata": {
    "collapsed": false
   },
   "outputs": [],
   "source": [
    "tas = (tasmin + tasmax)/2"
   ]
  },
  {
   "cell_type": "code",
   "execution_count": 11,
   "metadata": {
    "collapsed": false
   },
   "outputs": [
    {
     "data": {
      "text/plain": [
       "False"
      ]
     },
     "execution_count": 11,
     "metadata": {},
     "output_type": "execute_result"
    }
   ],
   "source": [
    "tasmin.derived"
   ]
  },
  {
   "cell_type": "code",
   "execution_count": 12,
   "metadata": {
    "collapsed": false
   },
   "outputs": [
    {
     "data": {
      "text/plain": [
       "True"
      ]
     },
     "execution_count": 12,
     "metadata": {},
     "output_type": "execute_result"
    }
   ],
   "source": [
    "tas.derived"
   ]
  },
  {
   "cell_type": "code",
   "execution_count": 13,
   "metadata": {
    "collapsed": false
   },
   "outputs": [
    {
     "data": {
      "text/latex": [
       "\\begin{equation}\n",
       "T_{lat,lon,day} = \n",
       "\\end{equation}"
      ],
      "text/plain": [
       "<IPython.core.display.Latex object>"
      ]
     },
     "metadata": {},
     "output_type": "display_data"
    }
   ],
   "source": [
    "tasmin.display()"
   ]
  },
  {
   "cell_type": "code",
   "execution_count": 17,
   "metadata": {
    "collapsed": false
   },
   "outputs": [
    {
     "data": {
      "text/latex": [
       "\\begin{equation}\n",
       "\\frac{\\left( + \\right)}{\\left(2\\right)}\n",
       "\\end{equation}"
      ],
      "text/plain": [
       "<IPython.core.display.Latex object>"
      ]
     },
     "metadata": {},
     "output_type": "display_data"
    }
   ],
   "source": [
    "tas.display()"
   ]
  },
  {
   "cell_type": "code",
   "execution_count": 18,
   "metadata": {
    "collapsed": false
   },
   "outputs": [
    {
     "data": {
      "text/plain": [
       "OrderedDict([(u'gcp_id', 'GCP.Climate.Projection.GridQtrDeg.Tas2'),\n",
       "             (u'name', 'Tas2')])"
      ]
     },
     "execution_count": 18,
     "metadata": {},
     "output_type": "execute_result"
    }
   ],
   "source": [
    "tas.attrs"
   ]
  },
  {
   "cell_type": "code",
   "execution_count": null,
   "metadata": {
    "collapsed": true
   },
   "outputs": [],
   "source": []
  },
  {
   "cell_type": "code",
   "execution_count": null,
   "metadata": {
    "collapsed": true
   },
   "outputs": [],
   "source": []
  },
  {
   "cell_type": "code",
   "execution_count": 16,
   "metadata": {
    "collapsed": false
   },
   "outputs": [],
   "source": [
    "tas.attrs[u'gcp_id'] = 'GCP.Climate.Projection.GridQtrDeg.Tas2'\n",
    "tas.attrs[u'name'] = 'Tas2'"
   ]
  },
  {
   "cell_type": "code",
   "execution_count": 19,
   "metadata": {
    "collapsed": false
   },
   "outputs": [],
   "source": [
    "all_the_tas = tas.sum(dim='GCP.INDEX.Day')"
   ]
  },
  {
   "cell_type": "code",
   "execution_count": 20,
   "metadata": {
    "collapsed": false
   },
   "outputs": [
    {
     "data": {
      "text/plain": [
       "<xarray.DataArray (GCP.INDEX.LatQtrDeg: 1, GCP.INDEX.LonQtrDeg: 1)>\n",
       "dask.array<sum-agg..., shape=(1, 1), dtype=float64, chunksize=(1, 1)>\n",
       "Coordinates:\n",
       "  * GCP.INDEX.LatQtrDeg  (GCP.INDEX.LatQtrDeg) |S1 ''\n",
       "  * GCP.INDEX.LonQtrDeg  (GCP.INDEX.LonQtrDeg) |S1 ''"
      ]
     },
     "execution_count": 20,
     "metadata": {},
     "output_type": "execute_result"
    }
   ],
   "source": [
    "all_the_tas"
   ]
  },
  {
   "cell_type": "code",
   "execution_count": 21,
   "metadata": {
    "collapsed": false
   },
   "outputs": [
    {
     "data": {
      "text/latex": [
       "\\begin{equation}\n",
       "\\sum_{GCP.INDEX.Day\\in GCP.INDEX.DAY}{\\left\\{\\frac{\\left( + \\right)}{\\left(2\\right)}\\right\\}}\n",
       "\\end{equation}"
      ],
      "text/plain": [
       "<IPython.core.display.Latex object>"
      ]
     },
     "metadata": {},
     "output_type": "display_data"
    }
   ],
   "source": [
    "all_the_tas.display()"
   ]
  },
  {
   "cell_type": "code",
   "execution_count": null,
   "metadata": {
    "collapsed": false
   },
   "outputs": [],
   "source": [
    "api.database[tasmax.attrs['gcp_id']]"
   ]
  },
  {
   "cell_type": "code",
   "execution_count": null,
   "metadata": {
    "collapsed": true
   },
   "outputs": [],
   "source": []
  },
  {
   "cell_type": "code",
   "execution_count": null,
   "metadata": {
    "collapsed": true
   },
   "outputs": [],
   "source": []
  },
  {
   "cell_type": "code",
   "execution_count": null,
   "metadata": {
    "collapsed": false
   },
   "outputs": [],
   "source": [
    "api.publish(tas, latex='T')"
   ]
  },
  {
   "cell_type": "markdown",
   "metadata": {},
   "source": [
    "## Do math with Impact Lab variables"
   ]
  },
  {
   "cell_type": "code",
   "execution_count": null,
   "metadata": {
    "collapsed": false
   },
   "outputs": [],
   "source": [
    "# From the NAS mortality presentation...\n",
    "\n",
    "betahat = alpha+gamma1*avg_days_per_bin+gamma2*(gdp_per_capita.ln())+gamma3*(pop_density.ln())"
   ]
  },
  {
   "cell_type": "code",
   "execution_count": null,
   "metadata": {
    "collapsed": true
   },
   "outputs": [],
   "source": [
    "# define how your new variable should look\n",
    "betahat.symbol = '\\\\hat{{\\\\beta}}'"
   ]
  },
  {
   "cell_type": "code",
   "execution_count": null,
   "metadata": {
    "collapsed": false
   },
   "outputs": [],
   "source": [
    "# show LaTeX for the math we just did\n",
    "betahat.display()"
   ]
  },
  {
   "cell_type": "code",
   "execution_count": null,
   "metadata": {
    "collapsed": false
   },
   "outputs": [],
   "source": [
    "class Dim(object):\n",
    "    def __init__(self, name, id):\n",
    "        self.name = name\n",
    "        self.id = id\n",
    "    def __repr__(self):\n",
    "        return self.name\n",
    "    \n",
    "tasmin.value.dims = (\n",
    "    Dim('lat', 'GCP.Index.Latitude'), \n",
    "    Dim('lon', 'GCP.Index.Longitude'),\n",
    "    Dim('time', 'GCP.Index.Days365'))\n"
   ]
  },
  {
   "cell_type": "markdown",
   "metadata": {},
   "source": [
    "## Use functions from xArray and the rest of python"
   ]
  },
  {
   "cell_type": "code",
   "execution_count": null,
   "metadata": {
    "collapsed": false
   },
   "outputs": [],
   "source": [
    "ax = betahat.value.plot()\n",
    "plt.show(ax)"
   ]
  },
  {
   "cell_type": "markdown",
   "metadata": {},
   "source": [
    "## The next step in the calculation..."
   ]
  },
  {
   "cell_type": "code",
   "execution_count": null,
   "metadata": {
    "collapsed": true
   },
   "outputs": [],
   "source": [
    "# simplify the representation of betahat:\n",
    "betahat.symbolic = '\\\\hat{{\\\\beta}}'"
   ]
  },
  {
   "cell_type": "code",
   "execution_count": null,
   "metadata": {
    "collapsed": true
   },
   "outputs": [],
   "source": [
    "# sum betahat*temp across bins\n",
    "mortality = (betahat * temp).sum(dim='bins')\n",
    "\n",
    "# declare a symbol for mortality\n",
    "mortality.symbol = 'M'"
   ]
  },
  {
   "cell_type": "code",
   "execution_count": null,
   "metadata": {
    "collapsed": false
   },
   "outputs": [],
   "source": [
    "mortality.display()"
   ]
  },
  {
   "cell_type": "markdown",
   "metadata": {},
   "source": [
    "Note that the dimensionality of mortality is less than beta and temp in the LaTeX and data:"
   ]
  },
  {
   "cell_type": "code",
   "execution_count": null,
   "metadata": {
    "collapsed": false
   },
   "outputs": [],
   "source": [
    "mortality.value"
   ]
  },
  {
   "cell_type": "code",
   "execution_count": null,
   "metadata": {
    "collapsed": false
   },
   "outputs": [],
   "source": [
    "ax = mortality.value.mean(dim='adm2').plot()\n",
    "plt.show(ax)"
   ]
  }
 ],
 "metadata": {
  "anaconda-cloud": {},
  "kernelspec": {
   "display_name": "Python [default]",
   "language": "python",
   "name": "python2"
  },
  "language_info": {
   "codemirror_mode": {
    "name": "ipython",
    "version": 2
   },
   "file_extension": ".py",
   "mimetype": "text/x-python",
   "name": "python",
   "nbconvert_exporter": "python",
   "pygments_lexer": "ipython2",
   "version": "2.7.12"
  }
 },
 "nbformat": 4,
 "nbformat_minor": 1
}
